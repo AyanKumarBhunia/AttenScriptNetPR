{
 "cells": [
  {
   "cell_type": "code",
   "execution_count": null,
   "metadata": {},
   "outputs": [],
   "source": [
    "from __future__ import division\n",
    "from __future__ import print_function\n",
    "\n",
    "import numpy as np\n",
    "import matplotlib.pyplot as plt\n",
    "import os\n",
    "import cv2\n",
    "import tensorflow as tf\n",
    "\n",
    "from preprocess import *\n",
    "from load_model import *"
   ]
  },
  {
   "cell_type": "code",
   "execution_count": 6,
   "metadata": {},
   "outputs": [],
   "source": [
    "dataset = 'MLE2E' # valid options : CVSI, SIW, ICDAR, MLE2E"
   ]
  },
  {
   "cell_type": "code",
   "execution_count": 10,
   "metadata": {},
   "outputs": [],
   "source": [
    "model_path = \"Models/\" + dataset + '/'\n",
    "path = \"Samples/\" + dataset + '/'"
   ]
  },
  {
   "cell_type": "code",
   "execution_count": 8,
   "metadata": {},
   "outputs": [
    {
     "name": "stdout",
     "output_type": "stream",
     "text": [
      "loading tensorflow model ...\n",
      "INFO:tensorflow:Restoring parameters from Models/MLE2E/model\n",
      "creating tensorboard logfiles...\n"
     ]
    }
   ],
   "source": [
    "global sess\n",
    "sess = tf.Session()\n",
    "Input, keep_prob, prediction = load_model(model_path,sess)"
   ]
  },
  {
   "cell_type": "code",
   "execution_count": 11,
   "metadata": {},
   "outputs": [
    {
     "name": "stdout",
     "output_type": "stream",
     "text": [
      ">>> loading... : img16.png\n",
      "showing classification results ... \n",
      "chinese - 94.20%\n",
      "kannada - 3.09%\n",
      "korean - 2.29%\n",
      "latin - 0.42%\n",
      ">>> loading... : img163.png\n",
      "showing classification results ... \n",
      "latin - 99.73%\n",
      "korean - 0.19%\n",
      "chinese - 0.04%\n",
      "kannada - 0.03%\n",
      ">>> loading... : img20.png\n",
      "showing classification results ... \n",
      "kannada - 98.62%\n",
      "latin - 0.91%\n",
      "chinese - 0.33%\n",
      "korean - 0.14%\n",
      ">>> loading... : img217.png\n",
      "showing classification results ... \n",
      "latin - 99.84%\n",
      "korean - 0.10%\n",
      "chinese - 0.03%\n",
      "kannada - 0.02%\n",
      ">>> loading... : img25.png\n",
      "showing classification results ... \n",
      "chinese - 98.31%\n",
      "korean - 1.53%\n",
      "kannada - 0.11%\n",
      "latin - 0.06%\n",
      ">>> loading... : img28.png\n",
      "showing classification results ... \n",
      "chinese - 97.84%\n",
      "korean - 1.83%\n",
      "kannada - 0.22%\n",
      "latin - 0.11%\n",
      ">>> loading... : img290.png\n",
      "showing classification results ... \n",
      "kannada - 98.09%\n",
      "latin - 1.48%\n",
      "chinese - 0.26%\n",
      "korean - 0.18%\n",
      ">>> loading... : img31.png\n",
      "showing classification results ... \n",
      "kannada - 93.08%\n",
      "chinese - 4.16%\n",
      "latin - 2.30%\n",
      "korean - 0.46%\n",
      ">>> loading... : img83.png\n",
      "showing classification results ... \n",
      "latin - 99.88%\n",
      "korean - 0.07%\n",
      "chinese - 0.03%\n",
      "kannada - 0.02%\n"
     ]
    }
   ],
   "source": [
    "label_ = [i[:-1] for i in open('Samples/' + dataset + '_labels.txt','r').readlines()]\n",
    "\n",
    "if os.path.isdir(path):\n",
    "    \n",
    "    img_paths = os.listdir(path)\n",
    "    \n",
    "    prediction_probablity = []\n",
    "    \n",
    "    for p in img_paths:\n",
    "        \n",
    "        print ('>>> loading... : ' + p)\n",
    "        \n",
    "        img_p = os.path.join(path,p)\n",
    "        \n",
    "        input_script = load_data(img_p,dataset)\n",
    "        \n",
    "        prediction_ = sess.run(prediction, {Input:input_script, keep_prob:1.0})\n",
    "        \n",
    "\n",
    "        print ('showing classification results ... ')\n",
    "        \n",
    "        argres = np.argsort(prediction_[0])[::-1] \n",
    "\n",
    "        for i in argres:\n",
    "\n",
    "            print (label_[i] + ' - ' + \"{0:.2f}%\".format(prediction_[0][i]*100))\n",
    "\n",
    "        \n",
    "        \n",
    "elif os.path.isfile(path):\n",
    "    \n",
    "    print ('>>> loading... : ' + path)\n",
    "    \n",
    "    input_script = load_data(path,dataset)\n",
    "    \n",
    "    prediction_probablity = sess.run(prediction, {Input:input_script, keep_prob:1.0})\n",
    "\n",
    "    \n",
    "    print ('showing classification results ... ')\n",
    "    \n",
    "    argres = np.argsort(prediction_probablity[0])[::-1] \n",
    "    \n",
    "    for i in argres:\n",
    "        \n",
    "        print (label_[i] + ' - ' + \"{0:.2f}%\".format(prediction_probablity[0][i]*100))\n",
    "\n",
    "else:\n",
    "    \n",
    "    \n",
    "    print ('ERROR : Please provide a valid path of a folder or a script image.')"
   ]
  },
  {
   "cell_type": "code",
   "execution_count": null,
   "metadata": {},
   "outputs": [],
   "source": []
  },
  {
   "cell_type": "code",
   "execution_count": null,
   "metadata": {},
   "outputs": [],
   "source": []
  },
  {
   "cell_type": "code",
   "execution_count": null,
   "metadata": {},
   "outputs": [],
   "source": []
  }
 ],
 "metadata": {
  "kernelspec": {
   "display_name": "Python 3",
   "language": "python",
   "name": "python3"
  },
  "language_info": {
   "codemirror_mode": {
    "name": "ipython",
    "version": 3
   },
   "file_extension": ".py",
   "mimetype": "text/x-python",
   "name": "python",
   "nbconvert_exporter": "python",
   "pygments_lexer": "ipython3",
   "version": "3.5.3"
  }
 },
 "nbformat": 4,
 "nbformat_minor": 2
}
